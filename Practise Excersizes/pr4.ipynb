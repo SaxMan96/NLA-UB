{
 "cells": [
  {
   "cell_type": "code",
   "execution_count": 40,
   "metadata": {},
   "outputs": [],
   "source": [
    "import numpy as np\n",
    "import pandas as pd\n",
    "import scipy\n",
    "from scipy.linalg import qr, solve_triangular\n",
    "import matplotlib.pyplot as plt\n",
    "\n",
    "np.set_printoptions(suppress=False, precision=4)\n",
    "\n",
    "\n",
    "def load_data_task1():\n",
    "    dades = pd.read_csv(\"dades.txt\", header=None, sep=\"   \", engine=\"python\").values\n",
    "    A = dades[:, 0]\n",
    "    b = dades[:, 1]\n",
    "    return A, b\n",
    "\n",
    "\n",
    "def load_data_task2():\n",
    "    dades_regressio = pd.read_csv(\"dades_regressio.csv\", header=None).values\n",
    "    A = dades_regressio[:, :-1]\n",
    "    b = dades_regressio[:, -1]\n",
    "    return A, b\n",
    "\n",
    "\n",
    "def normal_equation(A, x, b):\n",
    "    return A.T @ (A @ x - b)\n",
    "\n",
    "\n",
    "\n",
    "\n",
    "def least_squares_full_rank(A, b, method):\n",
    "    \n",
    "    rank = np.linalg.matrix_rank(A)\n",
    "    m = A.shape[0]\n",
    "    n = A.shape[1]\n",
    "\n",
    "    assert A.shape[0] == b.shape[0]\n",
    "    assert A.shape[0] >= A.shape[1]\n",
    "    assert rank == n\n",
    "    assert method in [\"norm_eq\", \"qr_fact\"]\n",
    "\n",
    "    if method == \"norm_eq\":\n",
    "        d = A.T @ b\n",
    "        G = np.linalg.cholesky(A.T @ A)\n",
    "        y = np.linalg.solve(G, d)\n",
    "        x_ls = np.linalg.solve(G.T, y)\n",
    "        error = None\n",
    "\n",
    "    elif method == \"qr_fact\":\n",
    "        Q, R = np.linalg.qr(A)\n",
    "        y = Q.T @ b\n",
    "        y1 = y[:n]\n",
    "        y2 = y[n:]\n",
    "        R1 = R[:n]\n",
    "        x_ls = solve_triangular(R1, y1)\n",
    "#         error = np.linalg.norm(y2, 2)**2\n",
    "        error = np.linalg.norm(A.dot(x_ls) - b, ord=2)\n",
    "        plot_data1(A[:,1], A@x_ls, b)\n",
    "        \n",
    "    return error\n",
    "\n",
    "def least_squares_not_full_rank(A, b):\n",
    "    \n",
    "    rank = np.linalg.matrix_rank(A)\n",
    "    m = A.shape[0]\n",
    "    n = A.shape[1]\n",
    "#     print('n=',n, 'm:',m,'rank=',rank)\n",
    "#     Q, R, P = qr(A, pivoting=True, mode='economic')\n",
    "    Q, R, P = qr(A, pivoting=True)\n",
    "\n",
    "    assert Q.shape == (m,m)\n",
    "    assert R.shape == (m,n)\n",
    "    assert np.allclose(A[:, P], Q @ R)\n",
    "    assert A.shape[0] == b.shape[0]\n",
    "    assert A.shape[0] >= A.shape[1]\n",
    "    assert rank < n\n",
    "    qtb = (Q.T @ b).T\n",
    "    print(qtb.shape[0], n, m)\n",
    "    assert qtb.shape[0] == n \n",
    "#     print('Q:', Q.shape, 'b:',b.shape, 'qtb:', qtb.shape)\n",
    "    c = qtb[:rank]\n",
    "    d = qtb[rank:]\n",
    "    v = np.zeros((n - rank)) # we are assuming simple solution with v = 0\n",
    "    print(n,rank,n-rank,d.shape[0])\n",
    "    assert d.shape[0] == n - rank\n",
    "    assert v.shape[0] == n - rank\n",
    "    R1 = R[:rank, :rank]\n",
    "#     S = R[:rank, :rank] nomatter what it is it is zeroed by v\n",
    "    u = np.linalg.solve(R1, c)\n",
    "    assert c.shape[0] == rank\n",
    "    assert u.shape[0] == rank\n",
    "    uv = np.concatenate((u, v)).T\n",
    "    x_ls = uv[P.T]\n",
    "    error = np.linalg.norm(b - A@x_ls, 2)**2\n",
    "    expected_error = np.linalg.norm(d, 2)**2\n",
    "    \n",
    "#     print('c,d,v,u,R1,uv,x_ls')\n",
    "#     for o in [c,d,v,u,R1,uv,x_ls]:\n",
    "#         print(o.shape)\n",
    "    return error, expected_error\n",
    "    \n",
    "def generate_poly_matrix(A, dim):\n",
    "    assert isinstance(dim, int)\n",
    "    assert dim > 0\n",
    "    return np.vstack([A ** d for d in range(dim)]).T\n",
    "\n",
    "\n",
    "def plot_data1(A, solution, b):\n",
    "    A_sorted, b_sorted = zip(*sorted(zip(A, b)))\n",
    "    plt.plot(A_sorted, b_sorted)\n",
    "    A_sorted, solution_sorted = zip(*sorted(zip(A, solution)))\n",
    "    plt.plot(A_sorted, solution_sorted)\n",
    "    plt.gcf().set_size_inches(2,1)\n",
    "    plt.show()\n",
    "\n",
    "\n",
    "def test1():\n",
    "    A, b = load_data_task1()\n",
    "    print(\"method\", \"dim\", \"result\", sep=\":\\t|\", end=\":\\n\")\n",
    "    print(\"-\" * 28)\n",
    "    for dim in range(2,8):\n",
    "        A_poly = generate_poly_matrix(A, dim)\n",
    "        for m in [\"norm_eq\", \"qr_fact\"]:\n",
    "            print(m, A_poly.shape[1], least_squares_full_rank(A_poly, b, method=m), sep=\"\\t|\")\n",
    "\n",
    "\n",
    "def test2():\n",
    "    A, b = load_data_task2()\n",
    "    print('error: obtained, teoretical')\n",
    "    print(least_squares_not_full_rank(A, b))"
   ]
  },
  {
   "cell_type": "code",
   "execution_count": 41,
   "metadata": {},
   "outputs": [
    {
     "name": "stdout",
     "output_type": "stream",
     "text": [
      "method:\t|dim:\t|result:\n",
      "----------------------------\n",
      "norm_eq\t|2\t|None\n"
     ]
    },
    {
     "data": {
      "image/png": "[encoded data removed]",
      "text/plain": [
       "<Figure size 144x72 with 1 Axes>"
      ]
     },
     "metadata": {
      "needs_background": "light"
     },
     "output_type": "display_data"
    },
    {
     "name": "stdout",
     "output_type": "stream",
     "text": [
      "qr_fact\t|2\t|37.11457973111771\n",
      "norm_eq\t|3\t|None\n"
     ]
    },
    {
     "data": {
      "image/png": "[encoded data removed]",
      "text/plain": [
       "<Figure size 144x72 with 1 Axes>"
      ]
     },
     "metadata": {
      "needs_background": "light"
     },
     "output_type": "display_data"
    },
    {
     "name": "stdout",
     "output_type": "stream",
     "text": [
      "qr_fact\t|3\t|10.88082840185219\n",
      "norm_eq\t|4\t|None\n"
     ]
    },
    {
     "data": {
      "image/png": "[encoded data removed]",
      "text/plain": [
       "<Figure size 144x72 with 1 Axes>"
      ]
     },
     "metadata": {
      "needs_background": "light"
     },
     "output_type": "display_data"
    },
    {
     "name": "stdout",
     "output_type": "stream",
     "text": [
      "qr_fact\t|4\t|10.880500221616828\n",
      "norm_eq\t|5\t|None\n"
     ]
    },
    {
     "data": {
      "image/png": "[encoded data removed]",
      "text/plain": [
       "<Figure size 144x72 with 1 Axes>"
      ]
     },
     "metadata": {
      "needs_background": "light"
     },
     "output_type": "display_data"
    },
    {
     "name": "stdout",
     "output_type": "stream",
     "text": [
      "qr_fact\t|5\t|10.873692595264194\n",
      "norm_eq\t|6\t|None\n"
     ]
    },
    {
     "data": {
      "image/png": "[encoded data removed]",
      "text/plain": [
       "<Figure size 144x72 with 1 Axes>"
      ]
     },
     "metadata": {
      "needs_background": "light"
     },
     "output_type": "display_data"
    },
    {
     "name": "stdout",
     "output_type": "stream",
     "text": [
      "qr_fact\t|6\t|10.864863438271676\n",
      "norm_eq\t|7\t|None\n"
     ]
    },
    {
     "data": {
      "image/png": "[encoded data removed]",
      "text/plain": [
       "<Figure size 144x72 with 1 Axes>"
      ]
     },
     "metadata": {
      "needs_background": "light"
     },
     "output_type": "display_data"
    },
    {
     "name": "stdout",
     "output_type": "stream",
     "text": [
      "qr_fact\t|7\t|10.86175665750056\n"
     ]
    }
   ],
   "source": [
    "test1()"
   ]
  },
  {
   "cell_type": "code",
   "execution_count": 42,
   "metadata": {},
   "outputs": [
    {
     "name": "stdout",
     "output_type": "stream",
     "text": [
      "error: obtained, teoretical\n",
      "15 11 15\n"
     ]
    },
    {
     "ename": "AssertionError",
     "evalue": "",
     "output_type": "error",
     "traceback": [
      "\u001b[1;31m---------------------------------------------------------------------------\u001b[0m",
      "\u001b[1;31mAssertionError\u001b[0m                            Traceback (most recent call last)",
      "\u001b[1;32m<ipython-input-42-7b315abe3193>\u001b[0m in \u001b[0;36m<module>\u001b[1;34m\u001b[0m\n\u001b[1;32m----> 1\u001b[1;33m \u001b[0mtest2\u001b[0m\u001b[1;33m(\u001b[0m\u001b[1;33m)\u001b[0m\u001b[1;33m\u001b[0m\u001b[1;33m\u001b[0m\u001b[0m\n\u001b[0m",
      "\u001b[1;32m<ipython-input-40-3a4beef20f4d>\u001b[0m in \u001b[0;36mtest2\u001b[1;34m()\u001b[0m\n\u001b[0;32m    127\u001b[0m     \u001b[0mA\u001b[0m\u001b[1;33m,\u001b[0m \u001b[0mb\u001b[0m \u001b[1;33m=\u001b[0m \u001b[0mload_data_task2\u001b[0m\u001b[1;33m(\u001b[0m\u001b[1;33m)\u001b[0m\u001b[1;33m\u001b[0m\u001b[1;33m\u001b[0m\u001b[0m\n\u001b[0;32m    128\u001b[0m     \u001b[0mprint\u001b[0m\u001b[1;33m(\u001b[0m\u001b[1;34m'error: obtained, teoretical'\u001b[0m\u001b[1;33m)\u001b[0m\u001b[1;33m\u001b[0m\u001b[1;33m\u001b[0m\u001b[0m\n\u001b[1;32m--> 129\u001b[1;33m     \u001b[0mprint\u001b[0m\u001b[1;33m(\u001b[0m\u001b[0mleast_squares_not_full_rank\u001b[0m\u001b[1;33m(\u001b[0m\u001b[0mA\u001b[0m\u001b[1;33m,\u001b[0m \u001b[0mb\u001b[0m\u001b[1;33m)\u001b[0m\u001b[1;33m)\u001b[0m\u001b[1;33m\u001b[0m\u001b[1;33m\u001b[0m\u001b[0m\n\u001b[0m",
      "\u001b[1;32m<ipython-input-40-3a4beef20f4d>\u001b[0m in \u001b[0;36mleast_squares_not_full_rank\u001b[1;34m(A, b)\u001b[0m\n\u001b[0;32m     76\u001b[0m     \u001b[0mqtb\u001b[0m \u001b[1;33m=\u001b[0m \u001b[1;33m(\u001b[0m\u001b[0mQ\u001b[0m\u001b[1;33m.\u001b[0m\u001b[0mT\u001b[0m \u001b[1;33m@\u001b[0m \u001b[0mb\u001b[0m\u001b[1;33m)\u001b[0m\u001b[1;33m.\u001b[0m\u001b[0mT\u001b[0m\u001b[1;33m\u001b[0m\u001b[1;33m\u001b[0m\u001b[0m\n\u001b[0;32m     77\u001b[0m     \u001b[0mprint\u001b[0m\u001b[1;33m(\u001b[0m\u001b[0mqtb\u001b[0m\u001b[1;33m.\u001b[0m\u001b[0mshape\u001b[0m\u001b[1;33m[\u001b[0m\u001b[1;36m0\u001b[0m\u001b[1;33m]\u001b[0m\u001b[1;33m,\u001b[0m \u001b[0mn\u001b[0m\u001b[1;33m,\u001b[0m \u001b[0mm\u001b[0m\u001b[1;33m)\u001b[0m\u001b[1;33m\u001b[0m\u001b[1;33m\u001b[0m\u001b[0m\n\u001b[1;32m---> 78\u001b[1;33m     \u001b[1;32massert\u001b[0m \u001b[0mqtb\u001b[0m\u001b[1;33m.\u001b[0m\u001b[0mshape\u001b[0m\u001b[1;33m[\u001b[0m\u001b[1;36m0\u001b[0m\u001b[1;33m]\u001b[0m \u001b[1;33m==\u001b[0m \u001b[0mn\u001b[0m\u001b[1;33m\u001b[0m\u001b[1;33m\u001b[0m\u001b[0m\n\u001b[0m\u001b[0;32m     79\u001b[0m \u001b[1;31m#     print('Q:', Q.shape, 'b:',b.shape, 'qtb:', qtb.shape)\u001b[0m\u001b[1;33m\u001b[0m\u001b[1;33m\u001b[0m\u001b[1;33m\u001b[0m\u001b[0m\n\u001b[0;32m     80\u001b[0m     \u001b[0mc\u001b[0m \u001b[1;33m=\u001b[0m \u001b[0mqtb\u001b[0m\u001b[1;33m[\u001b[0m\u001b[1;33m:\u001b[0m\u001b[0mrank\u001b[0m\u001b[1;33m]\u001b[0m\u001b[1;33m\u001b[0m\u001b[1;33m\u001b[0m\u001b[0m\n",
      "\u001b[1;31mAssertionError\u001b[0m: "
     ]
    }
   ],
   "source": [
    "test2()"
   ]
  },
  {
   "cell_type": "code",
   "execution_count": null,
   "metadata": {},
   "outputs": [],
   "source": []
  },
  {
   "cell_type": "code",
   "execution_count": null,
   "metadata": {},
   "outputs": [],
   "source": []
  },
  {
   "cell_type": "code",
   "execution_count": null,
   "metadata": {},
   "outputs": [],
   "source": []
  }
 ],
 "metadata": {
  "kernelspec": {
   "display_name": "Python 3",
   "language": "python",
   "name": "python3"
  },
  "language_info": {
   "codemirror_mode": {
    "name": "ipython",
    "version": 3
   },
   "file_extension": ".py",
   "mimetype": "text/x-python",
   "name": "python",
   "nbconvert_exporter": "python",
   "pygments_lexer": "ipython3",
   "version": "3.7.3"
  }
 },
 "nbformat": 4,
 "nbformat_minor": 4
}
