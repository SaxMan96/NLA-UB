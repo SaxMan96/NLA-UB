{
 "cells": [
  {
   "cell_type": "code",
   "execution_count": 459,
   "metadata": {},
   "outputs": [],
   "source": [
    "import numpy as np\n",
    "def lib_svd(A, verbose=0):\n",
    "    U, S, V = np.linalg.svd(A, full_matrices=True)\n",
    "\n",
    "    m = A.shape[0]\n",
    "    n = A.shape[1]\n",
    "\n",
    "    Sigma = np.zeros((A.shape[0], A.shape[1]))\n",
    "    Sigma[:n, :n] = np.diag(S)\n",
    "    S = Sigma\n",
    "\n",
    "    assert np.allclose(A, U @ (S @ V))\n",
    "    assert U.shape == (m, m)\n",
    "    assert V.shape == (n, n)\n",
    "    assert S.shape == (m, n)\n",
    "\n",
    "    np.set_printoptions(precision=4, suppress=True)\n",
    "    if verbose:\n",
    "        print(\"rank(A) = {}\".format(np.linalg.matrix_rank(A)))\n",
    "        print(\"2-norm(A) = {}\".format(np.linalg.norm(A, 2)))\n",
    "        print(\"Frobenius-norm(A) = {}\".format(np.linalg.norm(A, \"fro\")))\n",
    "        print(\"k_2(A) = {}\".format(np.linalg.cond(A, 2)))\n",
    "        print(\"A+ =\", *np.linalg.pinv(A), sep=\"\\n\")\n",
    "        print(\"A =\", *A, sep=\"\\n\")\n",
    "        print(\"U =\", *U, sep=\"\\n\")\n",
    "        print(\"S =\", *S, sep=\"\\n\")\n",
    "        print(\"V =\", *V, sep=\"\\n\")\n",
    "    return U, S, V"
   ]
  },
  {
   "cell_type": "markdown",
   "metadata": {},
   "source": [
    "# Computing the SVD decomposition\n"
   ]
  },
  {
   "cell_type": "code",
   "execution_count": 484,
   "metadata": {},
   "outputs": [
    {
     "data": {
      "text/plain": [
       "array([2, 0])"
      ]
     },
     "execution_count": 484,
     "metadata": {},
     "output_type": "execute_result"
    }
   ],
   "source": [
    "sinvals_1 = np.array([0,2])\n",
    "sinvals_1 = sinvals_1[np.argsort(-sinvals_1, axis=0)]\n",
    "sinvals_1"
   ]
  },
  {
   "cell_type": "code",
   "execution_count": 564,
   "metadata": {},
   "outputs": [
    {
     "ename": "ValueError",
     "evalue": "operands could not be broadcast together with shapes (3,2) (1,3) ",
     "output_type": "error",
     "traceback": [
      "\u001b[1;31m---------------------------------------------------------------------------\u001b[0m",
      "\u001b[1;31mValueError\u001b[0m                                Traceback (most recent call last)",
      "\u001b[1;32m<ipython-input-564-f17010e4daf4>\u001b[0m in \u001b[0;36m<module>\u001b[1;34m\u001b[0m\n\u001b[0;32m     24\u001b[0m \u001b[1;33m\u001b[0m\u001b[0m\n\u001b[0;32m     25\u001b[0m \u001b[0mA\u001b[0m \u001b[1;33m=\u001b[0m \u001b[0mnp\u001b[0m\u001b[1;33m.\u001b[0m\u001b[0marray\u001b[0m\u001b[1;33m(\u001b[0m\u001b[1;33m[\u001b[0m\u001b[1;33m[\u001b[0m\u001b[1;36m1\u001b[0m\u001b[1;33m,\u001b[0m\u001b[1;36m2\u001b[0m\u001b[1;33m,\u001b[0m\u001b[1;36m3\u001b[0m\u001b[1;33m]\u001b[0m\u001b[1;33m,\u001b[0m\u001b[1;33m[\u001b[0m\u001b[1;36m4\u001b[0m\u001b[1;33m,\u001b[0m\u001b[1;36m5\u001b[0m\u001b[1;33m,\u001b[0m\u001b[1;36m6\u001b[0m\u001b[1;33m]\u001b[0m\u001b[1;33m]\u001b[0m\u001b[1;33m)\u001b[0m\u001b[1;33m\u001b[0m\u001b[1;33m\u001b[0m\u001b[0m\n\u001b[1;32m---> 26\u001b[1;33m \u001b[0m_\u001b[0m \u001b[1;33m=\u001b[0m \u001b[0mmanual_svd\u001b[0m\u001b[1;33m(\u001b[0m\u001b[0mA\u001b[0m\u001b[1;33m)\u001b[0m\u001b[1;33m\u001b[0m\u001b[1;33m\u001b[0m\u001b[0m\n\u001b[0m",
      "\u001b[1;32m<ipython-input-564-f17010e4daf4>\u001b[0m in \u001b[0;36mmanual_svd\u001b[1;34m(A)\u001b[0m\n\u001b[0;32m     20\u001b[0m         \u001b[0mSigma\u001b[0m\u001b[1;33m[\u001b[0m\u001b[0mkey\u001b[0m\u001b[1;33m,\u001b[0m\u001b[0mkey\u001b[0m\u001b[1;33m]\u001b[0m \u001b[1;33m=\u001b[0m \u001b[0mval\u001b[0m\u001b[1;33m\u001b[0m\u001b[1;33m\u001b[0m\u001b[0m\n\u001b[0;32m     21\u001b[0m     \u001b[0mS\u001b[0m \u001b[1;33m=\u001b[0m \u001b[0mSigma\u001b[0m\u001b[1;33m\u001b[0m\u001b[1;33m\u001b[0m\u001b[0m\n\u001b[1;32m---> 22\u001b[1;33m     \u001b[0mV\u001b[0m \u001b[1;33m=\u001b[0m \u001b[0mV\u001b[0m\u001b[1;33m*\u001b[0m\u001b[0mnp\u001b[0m\u001b[1;33m.\u001b[0m\u001b[0msign\u001b[0m\u001b[1;33m(\u001b[0m\u001b[0meigvals_1\u001b[0m\u001b[1;33m)\u001b[0m\u001b[1;33m[\u001b[0m\u001b[1;33m...\u001b[0m\u001b[1;33m,\u001b[0m\u001b[1;32mNone\u001b[0m\u001b[1;33m,\u001b[0m\u001b[1;33m:\u001b[0m\u001b[1;33m]\u001b[0m\u001b[1;33m\u001b[0m\u001b[1;33m\u001b[0m\u001b[0m\n\u001b[0m\u001b[0;32m     23\u001b[0m     \u001b[1;32mreturn\u001b[0m \u001b[0mU\u001b[0m\u001b[1;33m,\u001b[0m\u001b[0mS\u001b[0m\u001b[1;33m,\u001b[0m\u001b[0mV\u001b[0m\u001b[1;33m.\u001b[0m\u001b[0mT\u001b[0m\u001b[1;33m\u001b[0m\u001b[1;33m\u001b[0m\u001b[0m\n\u001b[0;32m     24\u001b[0m \u001b[1;33m\u001b[0m\u001b[0m\n",
      "\u001b[1;31mValueError\u001b[0m: operands could not be broadcast together with shapes (3,2) (1,3) "
     ]
    }
   ],
   "source": [
    "def manual_svd(A):\n",
    "    m = A.shape[0]\n",
    "    n = A.shape[1]\n",
    "    H = np.zeros((m+n,m+n))\n",
    "    H[n:,:n] = A\n",
    "    H[:n,n:] = A.T\n",
    "    eigvals_1, eigvecs_1 = np.linalg.eig(A.T@A)\n",
    "    eigvals_2, eigvecs_2 = np.linalg.eig(A@A.T)\n",
    "    sinvals_1 = np.sqrt(eigvals_1[eigvals_1>0])\n",
    "    sinvals_2 = np.sqrt(eigvals_2[eigvals_2>0])\n",
    "\n",
    "    V = eigvecs_1[:,np.argsort(-sinvals_1, axis=0)]\n",
    "#     U = eigvecs_2\n",
    "    U = np.eye(m, m)\n",
    "    U[:m,:n] = eigvecs_2[:,np.argsort(-sinvals_2, axis=0)]\n",
    "    sinvals_1 = sinvals_1[np.argsort(-sinvals_1, axis=0)]\n",
    "    sinvals_2 = sinvals_2[np.argsort(-sinvals_2, axis=0)]\n",
    "    Sigma = np.zeros((A.shape[0], A.shape[1]))\n",
    "    for key, val in enumerate(sinvals_2):\n",
    "        Sigma[key,key] = val\n",
    "    S = Sigma\n",
    "    V = V*np.sign(eigvals_1)[...,None,:]\n",
    "    return U,S,V.T\n",
    "\n",
    "A = np.array([[1,2,3],[4,5,6]])\n",
    "_ = manual_svd(A)"
   ]
  },
  {
   "cell_type": "code",
   "execution_count": 551,
   "metadata": {},
   "outputs": [],
   "source": [
    "def manual_svd(A):\n",
    "    m = A.shape[0]\n",
    "    n = A.shape[1]\n",
    "    H = np.zeros((m+n,m+n))\n",
    "    H[n:,:n] = A\n",
    "    H[:n,n:] = A.T\n",
    "    eigvals_1, eigvecs_1 = np.linalg.eig(A.T@A)\n",
    "    eigvals_2, eigvecs_2 = np.linalg.eig(A@A.T)\n",
    "    sinvals_1 = np.sqrt(eigvals_1[eigvals_1>0])\n",
    "    sinvals_2 = np.sqrt(eigvals_2[eigvals_2>0])\n",
    "\n",
    "    V = eigvecs_1[:,np.argsort(-sinvals_1, axis=0)]\n",
    "#     U = eigvecs_2\n",
    "    U = np.eye(m, m)\n",
    "    U[:m,:n] = eigvecs_2[:,np.argsort(-sinvals_2, axis=0)]\n",
    "    sinvals_1 = sinvals_1[np.argsort(-sinvals_1, axis=0)]\n",
    "    sinvals_2 = sinvals_2[np.argsort(-sinvals_2, axis=0)]\n",
    "    Sigma = np.zeros((A.shape[0], A.shape[1]))\n",
    "    for key, val in enumerate(sinvals_2):\n",
    "        Sigma[key,key] = val\n",
    "    S = Sigma\n",
    "    return U,S,V.T\n",
    "\n",
    "A = np.array([[1,2,3],[4,5,6]])\n",
    "_ = manual_svd(A)"
   ]
  },
  {
   "cell_type": "code",
   "execution_count": 557,
   "metadata": {},
   "outputs": [],
   "source": [
    "import matplotlib.pyplot as plt\n",
    "\n",
    "\n",
    "def plot_dif(U, _U):\n",
    "\n",
    "    plt.subplot(131)\n",
    "    plt.imshow(U, vmin=-1, vmax=1)\n",
    "\n",
    "    plt.subplot(132)\n",
    "    plt.imshow(_U, vmin=-1, vmax=1)\n",
    "\n",
    "    plt.subplot(133)\n",
    "    plt.imshow(abs(U - _U) > 10e-8, vmin=-1, vmax=1)\n",
    "    plt.show()"
   ]
  },
  {
   "cell_type": "code",
   "execution_count": 558,
   "metadata": {},
   "outputs": [
    {
     "name": "stdout",
     "output_type": "stream",
     "text": [
      "[0.2691 0.6798 0.6822]\n",
      "[-0.962   0.1557  0.2243]\n",
      "[ 0.0463 -0.7167  0.6959]\n",
      "\n",
      "[-0.2691 -0.6798  0.6822]\n",
      "[ 0.962  -0.1557  0.2243]\n",
      "[-0.0463  0.7167  0.6959]\n"
     ]
    },
    {
     "data": {
      "image/png": "[encoded data removed]",
      "text/plain": [
       "<Figure size 432x288 with 3 Axes>"
      ]
     },
     "metadata": {
      "needs_background": "light"
     },
     "output_type": "display_data"
    }
   ],
   "source": [
    "A = np.array([[5,5],[-1,7]])\n",
    "A = np.array([[-149, -50, -154], [537, 180, 546],[-27, -9, -25]])\n",
    "# A = np.array([[2,1,0,0],[4,3,0,0]]).T\n",
    "# A = np.random.randn(6,6)\n",
    "U,S,Vt = manual_svd(A)\n",
    "_U,_S,_Vt = lib_svd(A)\n",
    "# print(U,S,Vt, sep='\\n')\n",
    "# print(_U,_S,_Vt,sep='\\n')\n",
    "# assert np.array_equal(_U,U)\n",
    "# assert np.array_equal(_S,S)\n",
    "# assert np.array_equal(_Vt,Vt)\n",
    "\n",
    "print(*U, sep='\\n', end='\\n\\n')\n",
    "print(*_U,sep='\\n')\n",
    "plot_dif(U, _U)"
   ]
  },
  {
   "cell_type": "code",
   "execution_count": 559,
   "metadata": {},
   "outputs": [
    {
     "name": "stdout",
     "output_type": "stream",
     "text": [
      "[0.6823 0.     0.    ]\n",
      "[ 0.      0.1937 -0.    ]\n",
      "[ 0.     -0.      0.0204]\n",
      "\n",
      "[0.6823 0.2287 0.6944]\n",
      "[-0.6671 -0.1937  0.7193]\n",
      "[ 0.299  -0.954   0.0204]\n",
      "\n"
     ]
    },
    {
     "data": {
      "image/png": "[encoded data removed]",
      "text/plain": [
       "<Figure size 432x288 with 3 Axes>"
      ]
     },
     "metadata": {
      "needs_background": "light"
     },
     "output_type": "display_data"
    }
   ],
   "source": [
    "print(*Vt, sep='\\n', end='\\n\\n')\n",
    "print(*_Vt, sep='\\n', end='\\n\\n')\n",
    "plot_dif(Vt, _Vt)"
   ]
  },
  {
   "cell_type": "code",
   "execution_count": 560,
   "metadata": {},
   "outputs": [
    {
     "name": "stdout",
     "output_type": "stream",
     "text": [
      "[817.7597   0.       0.    ]\n",
      "[0.    2.475 0.   ]\n",
      "[0.    0.    0.003]\n",
      "\n",
      "[817.7597   0.       0.    ]\n",
      "[0.    2.475 0.   ]\n",
      "[0.    0.    0.003]\n",
      "\n"
     ]
    },
    {
     "data": {
      "image/png": "[encoded data removed]",
      "text/plain": [
       "<Figure size 432x288 with 3 Axes>"
      ]
     },
     "metadata": {
      "needs_background": "light"
     },
     "output_type": "display_data"
    }
   ],
   "source": [
    "print(*S, sep='\\n', end='\\n\\n')\n",
    "print(*_S, sep='\\n', end='\\n\\n')\n",
    "\n",
    "plot_dif(S, _S)"
   ]
  },
  {
   "cell_type": "code",
   "execution_count": null,
   "metadata": {},
   "outputs": [],
   "source": []
  },
  {
   "cell_type": "code",
   "execution_count": null,
   "metadata": {},
   "outputs": [],
   "source": []
  }
 ],
 "metadata": {
  "kernelspec": {
   "display_name": "Python 3",
   "language": "python",
   "name": "python3"
  },
  "language_info": {
   "codemirror_mode": {
    "name": "ipython",
    "version": 3
   },
   "file_extension": ".py",
   "mimetype": "text/x-python",
   "name": "python",
   "nbconvert_exporter": "python",
   "pygments_lexer": "ipython3",
   "version": "3.7.3"
  }
 },
 "nbformat": 4,
 "nbformat_minor": 4
}
