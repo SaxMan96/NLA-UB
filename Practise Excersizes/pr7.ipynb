{
 "cells": [
  {
   "cell_type": "code",
   "execution_count": 92,
   "metadata": {},
   "outputs": [
    {
     "name": "stdout",
     "output_type": "stream",
     "text": [
      "rank(A) = 6\n",
      "2-norm(A) = 4.913305495189618\n",
      "Frobenius-norm(A) = 7.896655989020257\n",
      "k_2(A) = 12.638791029354575\n",
      "A+ =\n",
      "[ 0.13  0.03 -0.14 -0.14 -0.07  0.06  0.09  0.07  0.11]\n",
      "[ 0.13  0.31 -0.56 -0.32  1.92 -0.14 -0.   -0.31  0.69]\n",
      "[-0.05 -0.11 -0.22  0.37  0.51  0.3  -0.07  0.07  0.12]\n",
      "[ 0.13 -0.03  0.07 -0.15 -0.08 -0.23  0.02 -0.16  0.23]\n",
      "[-0.05  0.04  0.24 -0.24 -0.03 -0.03  0.17  0.03  0.2 ]\n",
      "[ 0.14  0.26 -0.42  0.02  1.08  0.06  0.09 -0.3   0.34]\n",
      "A =\n",
      "[ 1.36 -0.31  0.05  1.14 -0.84  0.52]\n",
      "[-0.12 -0.64 -1.49 -1.39  0.45  1.81]\n",
      "[-2.14 -0.27  0.24  0.13  1.93  0.22]\n",
      "[-1.2  -1.01  1.09  1.06 -0.14  1.27]\n",
      "[-0.88  0.56  0.08 -0.64  0.25 -0.28]\n",
      "[ 1.01 -0.68  0.68 -1.08  1.18  0.92]\n",
      "[ 0.53 -1.11 -0.23 -0.53  1.75  2.03]\n",
      "[ 1.6   1.1   0.6  -1.24  0.09 -2.26]\n",
      "[ 0.87 -0.1   1.56  2.01  1.06 -0.21]\n"
     ]
    }
   ],
   "source": [
    "import numpy as np\n",
    "\n",
    "A = np.random.randn(9, 6)\n",
    "U, S, V = np.linalg.svd(A, full_matrices=True)\n",
    "\n",
    "m = A.shape[0]\n",
    "n = A.shape[1]\n",
    "\n",
    "Sigma = np.zeros((A.shape[0], A.shape[1]))\n",
    "Sigma[:n, :n] = np.diag(S)\n",
    "S = Sigma\n",
    "\n",
    "assert np.allclose(A, U@(S@V))\n",
    "assert U.shape == (m, m)\n",
    "assert V.shape == (n, n)\n",
    "assert S.shape == (m, n)\n",
    "\n",
    "np.set_printoptions(precision=2, suppress=True)\n",
    "\n",
    "print('rank(A) = {}'.format(np.linalg.matrix_rank(A)))\n",
    "print('2-norm(A) = {}'.format(np.linalg.norm(A,2)))\n",
    "print('Frobenius-norm(A) = {}'.format(np.linalg.norm(A,'fro')))\n",
    "print('k_2(A) = {}'.format(np.linalg.cond(A, 2)))\n",
    "print('A+ =',*np.linalg.pinv(A),sep='\\n')\n",
    "print('A =',*A,sep='\\n')"
   ]
  },
  {
   "cell_type": "code",
   "execution_count": null,
   "metadata": {},
   "outputs": [],
   "source": []
  }
 ],
 "metadata": {
  "kernelspec": {
   "display_name": "Python 3",
   "language": "python",
   "name": "python3"
  },
  "language_info": {
   "codemirror_mode": {
    "name": "ipython",
    "version": 3
   },
   "file_extension": ".py",
   "mimetype": "text/x-python",
   "name": "python",
   "nbconvert_exporter": "python",
   "pygments_lexer": "ipython3",
   "version": "3.7.3"
  }
 },
 "nbformat": 4,
 "nbformat_minor": 4
}
