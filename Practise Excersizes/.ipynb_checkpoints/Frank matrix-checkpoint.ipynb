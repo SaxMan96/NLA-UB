{
 "cells": [
  {
   "cell_type": "code",
   "execution_count": 61,
   "metadata": {},
   "outputs": [],
   "source": [
    "import numpy as np\n",
    "import time\n",
    "n = 50\n",
    "alfa = 9e7\n",
    "B = np.zeros((n,n))\n",
    "for i in range(n):\n",
    "    for j in range(n):\n",
    "        B[i,j] = np.random.normal(0,1)\n",
    "        \n",
    "nsys=100\n",
    "\n",
    "nor1=np.zeros(nsys)\n",
    "nor2=np.zeros(nsys)"
   ]
  },
  {
   "cell_type": "code",
   "execution_count": 62,
   "metadata": {},
   "outputs": [],
   "source": [
    "Q,R=np.linalg.qr(B)\n",
    "\n",
    "D = np.identity(n)\n",
    "D[0,0] = alfa"
   ]
  },
  {
   "cell_type": "code",
   "execution_count": 63,
   "metadata": {},
   "outputs": [
    {
     "data": {
      "text/plain": [
       "90000000.90888093"
      ]
     },
     "execution_count": 63,
     "metadata": {},
     "output_type": "execute_result"
    }
   ],
   "source": [
    "A = np.dot(np.dot(Q.T,D),Q)\n",
    "k = np.linalg.norm(A,2) * np.linalg.norm(np.linalg.inv(A),2)\n",
    "k"
   ]
  },
  {
   "cell_type": "code",
   "execution_count": 76,
   "metadata": {
    "scrolled": true
   },
   "outputs": [
    {
     "name": "stdout",
     "output_type": "stream",
     "text": [
      "Invt time 0.37 ms\n",
      "GEPP time 0.21 ms\n"
     ]
    },
    {
     "name": "stderr",
     "output_type": "stream",
     "text": [
      "C:\\Users\\Mateusz\\Miniconda3\\lib\\site-packages\\ipykernel_launcher.py:5: DeprecationWarning: time.clock has been deprecated in Python 3.3 and will be removed from Python 3.8: use time.perf_counter or time.process_time instead\n",
      "  \"\"\"\n",
      "C:\\Users\\Mateusz\\Miniconda3\\lib\\site-packages\\ipykernel_launcher.py:9: DeprecationWarning: time.clock has been deprecated in Python 3.3 and will be removed from Python 3.8: use time.perf_counter or time.process_time instead\n",
      "  if __name__ == '__main__':\n",
      "C:\\Users\\Mateusz\\Miniconda3\\lib\\site-packages\\ipykernel_launcher.py:13: DeprecationWarning: time.clock has been deprecated in Python 3.3 and will be removed from Python 3.8: use time.perf_counter or time.process_time instead\n",
      "  del sys.path[0]\n",
      "C:\\Users\\Mateusz\\Miniconda3\\lib\\site-packages\\ipykernel_launcher.py:15: DeprecationWarning: time.clock has been deprecated in Python 3.3 and will be removed from Python 3.8: use time.perf_counter or time.process_time instead\n",
      "  from ipykernel import kernelapp as app\n"
     ]
    }
   ],
   "source": [
    "x = np.random.normal(0,1,n)\n",
    "#b = Ax\n",
    "b = np.dot(A,x)\n",
    "\n",
    "start_time = time.clock()\n",
    "# x = A^-1 * b\n",
    "iA = np.linalg.inv(A)\n",
    "x1 = np.dot(iA,b)  \n",
    "end_time = time.clock()\n",
    "print(\"Invt time\", np.round(1000*(end_time - start_time),2), \"ms\")\n",
    "\n",
    "# GEPP\n",
    "start_time = time.clock()\n",
    "x2 = np.linalg.solve(A,b)\n",
    "end_time = time.clock()\n",
    "print(\"GEPP time\", np.round(1000*(end_time - start_time),2), \"ms\")"
   ]
  },
  {
   "cell_type": "code",
   "execution_count": 81,
   "metadata": {},
   "outputs": [
    {
     "name": "stdout",
     "output_type": "stream",
     "text": [
      "Invt nomr:  2.890169801426953e-10\n",
      "GEPP norm:  3.414457940549001e-17\n"
     ]
    }
   ],
   "source": [
    "r1=np.dot(A,x1)-b;  r2=np.dot(A,x2)-b  #residues\n",
    "nr1=np.linalg.norm(r1,np.inf);  nr2=np.linalg.norm(r2,np.inf)  #residue norms\n",
    "nA=np.linalg.norm(A,np.inf)  #norm of A\n",
    "nb=np.linalg.norm(b,np.inf)  #norm of b\n",
    "nx1=np.linalg.norm(x1,np.inf);  nx2=np.linalg.norm(x2,np.inf)  #solution norms\n",
    "nor1=nr1/(nA*nx1+nb);  nor2=nr2/(nA*nx2+nb)  #array of normwise backward errors\n",
    "\n",
    "print(\"Invt nomr: \", nor1)\n",
    "print(\"GEPP norm: \", nor2)"
   ]
  },
  {
   "cell_type": "code",
   "execution_count": null,
   "metadata": {},
   "outputs": [],
   "source": []
  }
 ],
 "metadata": {
  "kernelspec": {
   "display_name": "Python 3",
   "language": "python",
   "name": "python3"
  },
  "language_info": {
   "codemirror_mode": {
    "name": "ipython",
    "version": 3
   },
   "file_extension": ".py",
   "mimetype": "text/x-python",
   "name": "python",
   "nbconvert_exporter": "python",
   "pygments_lexer": "ipython3",
   "version": "3.7.3"
  },
  "toc": {
   "base_numbering": 1,
   "nav_menu": {},
   "number_sections": true,
   "sideBar": true,
   "skip_h1_title": false,
   "title_cell": "Table of Contents",
   "title_sidebar": "Contents",
   "toc_cell": false,
   "toc_position": {},
   "toc_section_display": true,
   "toc_window_display": false
  }
 },
 "nbformat": 4,
 "nbformat_minor": 2
}
